{
 "cells": [
  {
   "cell_type": "code",
   "execution_count": 1,
   "metadata": {},
   "outputs": [],
   "source": [
    "#neccessary pacakage to list the directory.\n",
    "import os\n"
   ]
  },
  {
   "cell_type": "code",
   "execution_count": 14,
   "metadata": {},
   "outputs": [
    {
     "name": "stdout",
     "output_type": "stream",
     "text": [
      "enter the directory u want to list: E:\n"
     ]
    }
   ],
   "source": [
    "#Taking user input  \n",
    "loc = input(\"enter the directory u want to list: \")"
   ]
  },
  {
   "cell_type": "code",
   "execution_count": 18,
   "metadata": {},
   "outputs": [
    {
     "name": "stdout",
     "output_type": "stream",
     "text": [
      "['!qhlogs.doc', '$RECYCLE.BIN', 'AA', 'AdHoc python', 'Advertising.csv', 'AppConfig.java', 'cfrbackup-JJEZNIQT', 'CS 5-6th sem.pdf', \"Daily Attendance_RCEW_Sept'2019.xlsx\", 'Data Structures and Algorithms - Narasimha Karumanchi.pdf', 'fifty', 'final year resume(2020).docx', 'final year resume(my).docx', 'First.java', 'hacker.docx', 'hackerthon.docx', 'hibernateonetooneBydi', 'hibernateOnetoOneUni', 'hibernatePro', 'hibernate_lib', 'home.html', 'index.html', 'java', 'java.java', 'Librarian.java', 'librarymanagementsystem', 'library_management (2).sql', 'library_management.sql', 'machine learning', 'MOHINI THAKUR resume.docx', 'MOHINI THAKUR resume.pdf', 'MOHINI THAKUR resume1.docx', 'MOHINI.docx', 'my resume(2021).docx', 'my resume.docx', 'olms ppt.odp', 'persistence-mysql.properties', 'pom.xml', 'RAJASTHAN COLLEGE OF ENGINEERING FOR WOMEN.docx', 'RCEW.png', 'rhel-8.0-x86_64-dvd.iso', 'student_details.jsp', 'System Volume Information']\n"
     ]
    }
   ],
   "source": [
    "#generating the list of item in a directory\n",
    "gen_list = os.listdir(loc)\n",
    "print(gen_list)"
   ]
  },
  {
   "cell_type": "code",
   "execution_count": null,
   "metadata": {},
   "outputs": [],
   "source": []
  }
 ],
 "metadata": {
  "kernelspec": {
   "display_name": "Python 3",
   "language": "python",
   "name": "python3"
  },
  "language_info": {
   "codemirror_mode": {
    "name": "ipython",
    "version": 3
   },
   "file_extension": ".py",
   "mimetype": "text/x-python",
   "name": "python",
   "nbconvert_exporter": "python",
   "pygments_lexer": "ipython3",
   "version": "3.7.3"
  }
 },
 "nbformat": 4,
 "nbformat_minor": 2
}
